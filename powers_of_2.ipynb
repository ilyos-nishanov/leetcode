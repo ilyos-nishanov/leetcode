{
 "cells": [
  {
   "cell_type": "code",
   "execution_count": 16,
   "id": "4bce7207-fcce-48ff-9dd0-b17185b789c2",
   "metadata": {},
   "outputs": [],
   "source": [
    "def isPowerOfTwo(n):\n",
    "    if n == 2:\n",
    "        return True\n",
    "    elif n%2 == 0:\n",
    "        return isPowerOfTwo(n/2)\n",
    "    else:\n",
    "        return False"
   ]
  },
  {
   "cell_type": "code",
   "execution_count": 19,
   "id": "8670c578-8b24-4f71-a292-22c1c5c7e2cf",
   "metadata": {},
   "outputs": [
    {
     "name": "stdout",
     "output_type": "stream",
     "text": [
      "False\n"
     ]
    }
   ],
   "source": [
    "print(isPowerOfTwo(21))"
   ]
  },
  {
   "cell_type": "code",
   "execution_count": null,
   "id": "0922f4a1-22f3-45db-8c7f-a4e24383782c",
   "metadata": {},
   "outputs": [],
   "source": []
  }
 ],
 "metadata": {
  "kernelspec": {
   "display_name": "Python 3 (ipykernel)",
   "language": "python",
   "name": "python3"
  },
  "language_info": {
   "codemirror_mode": {
    "name": "ipython",
    "version": 3
   },
   "file_extension": ".py",
   "mimetype": "text/x-python",
   "name": "python",
   "nbconvert_exporter": "python",
   "pygments_lexer": "ipython3",
   "version": "3.12.6"
  }
 },
 "nbformat": 4,
 "nbformat_minor": 5
}
