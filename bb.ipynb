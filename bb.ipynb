{
 "cells": [
  {
   "cell_type": "code",
   "execution_count": 12,
   "metadata": {},
   "outputs": [],
   "source": [
    "import pandas as pd\n",
    "import numpy as np\n",
    "from collections import deque\n",
    "import itertools"
   ]
  },
  {
   "cell_type": "code",
   "execution_count": 11,
   "metadata": {},
   "outputs": [
    {
     "data": {
      "text/html": [
       "<div>\n",
       "<style scoped>\n",
       "    .dataframe tbody tr th:only-of-type {\n",
       "        vertical-align: middle;\n",
       "    }\n",
       "\n",
       "    .dataframe tbody tr th {\n",
       "        vertical-align: top;\n",
       "    }\n",
       "\n",
       "    .dataframe thead th {\n",
       "        text-align: right;\n",
       "    }\n",
       "</style>\n",
       "<table border=\"1\" class=\"dataframe\">\n",
       "  <thead>\n",
       "    <tr style=\"text-align: right;\">\n",
       "      <th></th>\n",
       "      <th>a</th>\n",
       "      <th>b</th>\n",
       "      <th>c</th>\n",
       "    </tr>\n",
       "  </thead>\n",
       "  <tbody>\n",
       "    <tr>\n",
       "      <th>0</th>\n",
       "      <td>1</td>\n",
       "      <td>2</td>\n",
       "      <td>3</td>\n",
       "    </tr>\n",
       "    <tr>\n",
       "      <th>1</th>\n",
       "      <td>4</td>\n",
       "      <td>5</td>\n",
       "      <td>6</td>\n",
       "    </tr>\n",
       "    <tr>\n",
       "      <th>2</th>\n",
       "      <td>7</td>\n",
       "      <td>8</td>\n",
       "      <td>9</td>\n",
       "    </tr>\n",
       "  </tbody>\n",
       "</table>\n",
       "</div>"
      ],
      "text/plain": [
       "   a  b  c\n",
       "0  1  2  3\n",
       "1  4  5  6\n",
       "2  7  8  9"
      ]
     },
     "execution_count": 11,
     "metadata": {},
     "output_type": "execute_result"
    }
   ],
   "source": [
    "df = pd.DataFrame(np.array([[1, 2, 3], [4, 5, 6], [7, 8, 9]]),\n",
    "                   columns=['a', 'b', 'c'])\n",
    "df"
   ]
  },
  {
   "cell_type": "code",
   "execution_count": 19,
   "metadata": {},
   "outputs": [
    {
     "name": "stdout",
     "output_type": "stream",
     "text": [
      "0\n"
     ]
    }
   ],
   "source": [
    "#use DataFrame.iloc select by positions:\n",
    "#return the position of a column\n",
    "print (df.columns.get_loc('a'))\n"
   ]
  },
  {
   "cell_type": "code",
   "execution_count": 21,
   "metadata": {},
   "outputs": [
    {
     "name": "stdout",
     "output_type": "stream",
     "text": [
      "      a  b  c\n",
      "0  good  2  3\n",
      "1  good  5  6\n",
      "2   bad  8  9\n"
     ]
    }
   ],
   "source": [
    "\n",
    "df.iloc[0:2, df.columns.get_loc('a')] = 'good'\n",
    "df.iloc[2:6, df.columns.get_loc('a')] = 'bad'\n",
    "print (df)"
   ]
  },
  {
   "cell_type": "code",
   "execution_count": 30,
   "metadata": {},
   "outputs": [
    {
     "name": "stdout",
     "output_type": "stream",
     "text": [
      "['a', 'b', 'c']\n"
     ]
    }
   ],
   "source": [
    "list_1 = list(df.columns)\n",
    "list_1"
   ]
  },
  {
   "cell_type": "code",
   "execution_count": 62,
   "metadata": {},
   "outputs": [
    {
     "data": {
      "text/html": [
       "<div>\n",
       "<style scoped>\n",
       "    .dataframe tbody tr th:only-of-type {\n",
       "        vertical-align: middle;\n",
       "    }\n",
       "\n",
       "    .dataframe tbody tr th {\n",
       "        vertical-align: top;\n",
       "    }\n",
       "\n",
       "    .dataframe thead th {\n",
       "        text-align: right;\n",
       "    }\n",
       "</style>\n",
       "<table border=\"1\" class=\"dataframe\">\n",
       "  <thead>\n",
       "    <tr style=\"text-align: right;\">\n",
       "      <th></th>\n",
       "      <th>a</th>\n",
       "      <th>b</th>\n",
       "      <th>c</th>\n",
       "    </tr>\n",
       "  </thead>\n",
       "  <tbody>\n",
       "    <tr>\n",
       "      <th>0</th>\n",
       "      <td>good</td>\n",
       "      <td>2</td>\n",
       "      <td>3</td>\n",
       "    </tr>\n",
       "    <tr>\n",
       "      <th>1</th>\n",
       "      <td>good</td>\n",
       "      <td>5</td>\n",
       "      <td>6</td>\n",
       "    </tr>\n",
       "    <tr>\n",
       "      <th>2</th>\n",
       "      <td>bad</td>\n",
       "      <td>8</td>\n",
       "      <td>9</td>\n",
       "    </tr>\n",
       "  </tbody>\n",
       "</table>\n",
       "</div>"
      ],
      "text/plain": [
       "      a  b  c\n",
       "0  good  2  3\n",
       "1  good  5  6\n",
       "2   bad  8  9"
      ]
     },
     "execution_count": 62,
     "metadata": {},
     "output_type": "execute_result"
    }
   ],
   "source": [
    "list_2 = df[0:4]\n",
    "list_2"
   ]
  },
  {
   "cell_type": "code",
   "execution_count": 65,
   "metadata": {},
   "outputs": [],
   "source": [
    "from collections import deque"
   ]
  },
  {
   "cell_type": "code",
   "execution_count": 66,
   "metadata": {},
   "outputs": [
    {
     "data": {
      "text/plain": [
       "deque([0, 0], maxlen=2)"
      ]
     },
     "execution_count": 66,
     "metadata": {},
     "output_type": "execute_result"
    }
   ],
   "source": [
    "pair = deque(2*[0],2)\n",
    "pair"
   ]
  },
  {
   "cell_type": "code",
   "execution_count": 68,
   "metadata": {},
   "outputs": [
    {
     "data": {
      "text/plain": [
       "deque([1, 0], maxlen=2)"
      ]
     },
     "execution_count": 68,
     "metadata": {},
     "output_type": "execute_result"
    }
   ],
   "source": [
    "pair.appendleft(1)\n",
    "pair"
   ]
  },
  {
   "cell_type": "code",
   "execution_count": 69,
   "metadata": {},
   "outputs": [
    {
     "data": {
      "text/plain": [
       "deque([2, 1], maxlen=2)"
      ]
     },
     "execution_count": 69,
     "metadata": {},
     "output_type": "execute_result"
    }
   ],
   "source": [
    "pair.appendleft(2)\n",
    "pair"
   ]
  },
  {
   "cell_type": "code",
   "execution_count": 71,
   "metadata": {},
   "outputs": [
    {
     "data": {
      "text/plain": [
       "[1, 2, 3, 5]"
      ]
     },
     "execution_count": 71,
     "metadata": {},
     "output_type": "execute_result"
    }
   ],
   "source": [
    "mylist= [1,2,3,4,5]\n",
    "mylist.pop(3)\n",
    "mylist"
   ]
  },
  {
   "cell_type": "code",
   "execution_count": 5,
   "metadata": {},
   "outputs": [
    {
     "name": "stdout",
     "output_type": "stream",
     "text": [
      "freq if not yet matched\n",
      "{3: 1}\n",
      "freq if not yet matched\n",
      "{3: 1, 1: 1}\n",
      "freq if matched\n",
      "{3: 0, 1: 1}\n",
      "freq if not yet matched\n",
      "{3: 0, 1: 1, 4: 1}\n",
      "freq if not yet matched\n",
      "{3: 1, 1: 1, 4: 1}\n",
      "1\n"
     ]
    }
   ],
   "source": [
    "def maxOperations3(nums, k):\n",
    "    ans = 0\n",
    "    freq = {}\n",
    "    \n",
    "    for num in nums:\n",
    "        complement = k - num\n",
    "        if freq.get(complement, 0) > 0:\n",
    "            ans += 1\n",
    "            freq[complement] -= 1\n",
    "            print('freq if matched')\n",
    "            print(freq)\n",
    "        else:\n",
    "            freq[num] = freq.get(num, 0) + 1\n",
    "            print('freq if not yet matched')\n",
    "            print(freq)\n",
    "    \n",
    "    return ans\n",
    "\n",
    "print(maxOperations3([3,1,3,4,3],6))\n"
   ]
  },
  {
   "cell_type": "code",
   "execution_count": 14,
   "metadata": {},
   "outputs": [
    {
     "data": {
      "text/plain": [
       "[0, 0, 0]"
      ]
     },
     "execution_count": 14,
     "metadata": {},
     "output_type": "execute_result"
    }
   ],
   "source": [
    "pair = deque(3*[0],3)\n",
    "pair=list(pair)\n",
    "pair"
   ]
  },
  {
   "cell_type": "code",
   "execution_count": 47,
   "metadata": {},
   "outputs": [
    {
     "name": "stdout",
     "output_type": "stream",
     "text": [
      "3\n"
     ]
    }
   ],
   "source": [
    "def maxVowels(s, k):\n",
    "    \n",
    "    from collections import deque\n",
    "    pair = deque(k*[0],k)\n",
    "    \n",
    "    vowels = set('aeiou')\n",
    "    max_vowels = 0\n",
    "    \n",
    "    for letter in s:\n",
    "        pair.appendleft(letter)\n",
    "        mylist = [list(pair)]\n",
    "        mylist = sum(mylist,[])\n",
    "        mylist = [i for i in mylist if i in vowels]\n",
    "        max_vowels = max(max_vowels,len(mylist))\n",
    "    return max_vowels\n",
    "\n",
    "print(maxVowels(\"abciiidef\", 3))"
   ]
  },
  {
   "cell_type": "code",
   "execution_count": null,
   "metadata": {},
   "outputs": [],
   "source": [
    "def maxVowels(s, k):\n",
    "    vowels = set('aeiou')\n",
    "    max_count = 0\n",
    "    current_count = 0\n",
    "\n",
    "    # Initial window\n",
    "    for i in range(k):\n",
    "        if s[i] in vowels:\n",
    "            current_count += 1\n",
    "    max_count = current_count\n",
    "\n",
    "    # Sliding window\n",
    "    for i in range(k, len(s)):\n",
    "        if s[i] in vowels:\n",
    "            current_count += 1\n",
    "        if s[i - k] in vowels:\n",
    "            current_count -= 1\n",
    "        max_count = max(max_count, current_count)\n",
    "    \n",
    "    return max_count\n",
    "\n",
    "print(maxVowels(\"abciiidef\", 3))\n"
   ]
  },
  {
   "cell_type": "code",
   "execution_count": 50,
   "metadata": {},
   "outputs": [
    {
     "data": {
      "text/plain": [
       "1"
      ]
     },
     "execution_count": 50,
     "metadata": {},
     "output_type": "execute_result"
    }
   ],
   "source": [
    "def findClosestNumber(nums):\n",
    "    return min([abs(num) for num in nums])\n",
    "\n",
    "findClosestNumber([-4,2,5,1,-1])"
   ]
  },
  {
   "cell_type": "code",
   "execution_count": 56,
   "metadata": {},
   "outputs": [
    {
     "name": "stdout",
     "output_type": "stream",
     "text": [
      "<enumerate object at 0x11359eed0>\n",
      "0 1\n",
      "1 1\n",
      "2 1\n",
      "3 0\n",
      "4 1\n",
      "5 1\n",
      "6 1\n",
      "7 1\n",
      "8 0\n",
      "9 0\n",
      "10 0\n",
      "11 1\n",
      "12 1\n",
      "None\n"
     ]
    }
   ],
   "source": [
    "def longestSubarray(nums):\n",
    "    max_width = left = zeros = 0\n",
    "    print(enumerate(nums))\n",
    "    for right, num in enumerate(nums):\n",
    "        # print(right, num)\n",
    "        zeros+= (1 if num ==0 else 0)\n",
    "\n",
    "        while zeros > 1:\n",
    "            zeros -= (1 if nums[left]==0 else 0)\n",
    "            left +=1\n",
    "        width = right-left\n",
    "        max_width = max(max_width, width)\n",
    "    return max_width\n",
    "\n",
    "print(longestSubarray([1,1,1,0,1,1,1,1,0,0,0,1,1]))"
   ]
  },
  {
   "cell_type": "code",
   "execution_count": 61,
   "metadata": {},
   "outputs": [
    {
     "data": {
      "text/plain": [
       "3"
      ]
     },
     "execution_count": 61,
     "metadata": {},
     "output_type": "execute_result"
    }
   ],
   "source": [
    "def pivotIndex(nums):\n",
    "    ans = -1\n",
    "    for i in range(len(nums)):\n",
    "        sumLeft = sum(nums[0:i])\n",
    "        sumRight = sum(nums[i+1:])\n",
    "        if sumLeft == sumRight:\n",
    "            ans = i\n",
    "            break\n",
    "    return ans\n",
    "\n",
    "pivotIndex([1,7,3,6,5,6])"
   ]
  },
  {
   "cell_type": "code",
   "execution_count": 66,
   "metadata": {},
   "outputs": [
    {
     "name": "stdout",
     "output_type": "stream",
     "text": [
      "[[1, 3], [4, 6]]\n"
     ]
    }
   ],
   "source": [
    "def findDifference(nums1, nums2):\n",
    "    ans = []\n",
    "    mynums1 = [num for num in nums1 if num not in nums2]\n",
    "    mynums2 = [num for num in nums2 if num not in nums1]\n",
    "    ans.append(mynums1)\n",
    "    ans.append(mynums2)\n",
    "    return ans\n",
    "\n",
    "print(findDifference([1,2,3],[2,4,6]))"
   ]
  },
  {
   "cell_type": "code",
   "execution_count": 98,
   "metadata": {},
   "outputs": [
    {
     "name": "stdout",
     "output_type": "stream",
     "text": [
      "False\n"
     ]
    }
   ],
   "source": [
    "def uniqueOccurrences(arr):\n",
    "    for i in range(len(arr)):\n",
    "        if arr[i] not in (sum([arr[:i]+arr[i+1:]],[])):\n",
    "            return False\n",
    "        return True\n",
    "    \n",
    "print(uniqueOccurrences([1,2]))"
   ]
  },
  {
   "cell_type": "code",
   "execution_count": 67,
   "metadata": {},
   "outputs": [
    {
     "data": {
      "text/plain": [
       "[[1, 2, 3, 4, 5, 6, 7]]"
      ]
     },
     "execution_count": 67,
     "metadata": {},
     "output_type": "execute_result"
    }
   ],
   "source": [
    "arr1 = [1,2,3,4]\n",
    "arr2 = [5,6,7]\n",
    "arr3 = [arr1+arr2]\n",
    "arr3"
   ]
  },
  {
   "cell_type": "code",
   "execution_count": 100,
   "metadata": {},
   "outputs": [
    {
     "name": "stdout",
     "output_type": "stream",
     "text": [
      "Counter({1: 1, 2: 1})\n",
      "[1, 1]\n",
      "False\n"
     ]
    }
   ],
   "source": [
    "from collections import Counter\n",
    "\n",
    "def uniqueOccurrences2(arr):\n",
    "    # Count the occurrences of each element in the array\n",
    "    occurrence_count = Counter(arr)\n",
    "    print(occurrence_count)\n",
    "    # Get the list of the occurrence values\n",
    "    occurrences = list(occurrence_count.values())\n",
    "    print(occurrences)\n",
    "    # Check if the number of occurrences are unique\n",
    "    return len(occurrences) == len(set(occurrences))\n",
    "\n",
    "print(uniqueOccurrences2([1,2]))"
   ]
  },
  {
   "cell_type": "code",
   "execution_count": 5,
   "metadata": {},
   "outputs": [
    {
     "name": "stdout",
     "output_type": "stream",
     "text": [
      "10\n"
     ]
    }
   ],
   "source": [
    "def sumOfElements(arr):\n",
    "    if len(arr)==1:\n",
    "        return arr[0]\n",
    "    else:\n",
    "        \n",
    "        return arr[0]+ sumOfElements(arr[1:])\n",
    "    \n",
    "print(sumOfElements([1,2,3,4]))"
   ]
  },
  {
   "cell_type": "code",
   "execution_count": 7,
   "metadata": {},
   "outputs": [
    {
     "name": "stdout",
     "output_type": "stream",
     "text": [
      "[1, 2, 2, 3, 3, 3, 4, 4, 6, 7, 7, 32, 57, 78]\n"
     ]
    }
   ],
   "source": [
    "#quicksort\n",
    "def quickSort(arr):\n",
    "    if len(arr)<2:\n",
    "        return arr\n",
    "    else:\n",
    "        pivot = arr[0]\n",
    "        less = [i for i in arr[1:] if i <=pivot]\n",
    "        greater = [i for i in arr[1:] if i > pivot]\n",
    "        return quickSort(less)+[pivot]+quickSort(greater)\n",
    "    \n",
    "print(quickSort([1,2,3,4,32,6,7,3,57,78,4,3,2,7]))"
   ]
  },
  {
   "cell_type": "code",
   "execution_count": 1,
   "metadata": {},
   "outputs": [],
   "source": [
    "### some practice"
   ]
  },
  {
   "cell_type": "code",
   "execution_count": null,
   "metadata": {},
   "outputs": [],
   "source": [
    "word1 = 'tenet'\n",
    "word2 = 'nottenet'\n",
    "\n",
    "word1[::-1] == word1"
   ]
  },
  {
   "cell_type": "code",
   "execution_count": null,
   "metadata": {},
   "outputs": [],
   "source": [
    "def addUp(ints=[],target=int):\n",
    "    for i in range(len(ints)):\n",
    "        for j in range (i,len(ints)):\n",
    "            if ints[i]+ints[j]==target:\n",
    "                return True\n",
    "    return False\n",
    "\n",
    "print(addUp([1,2,3,4,5,6,7],1))"
   ]
  },
  {
   "cell_type": "code",
   "execution_count": null,
   "metadata": {},
   "outputs": [],
   "source": [
    "def nonRep(s):\n",
    "    mylist = []\n",
    "    for i in range(len(s)):\n",
    "        if s[i] not in mylist:\n",
    "            mylist.append(s[i])\n",
    "        else:\n",
    "            mylist.remove(s[i])\n",
    "    return mylist[0]\n",
    "print(nonRep('stringst'))"
   ]
  },
  {
   "cell_type": "code",
   "execution_count": null,
   "metadata": {},
   "outputs": [],
   "source": [
    "def fib(n, memo={}):\n",
    "    if n in memo:\n",
    "        return memo[n]\n",
    "    if n<=2:\n",
    "        return 1\n",
    "    else:\n",
    "        memo[n]= fib(n-1)+fib(n-2)\n",
    "        return memo[n]\n",
    "    \n",
    "print(fib(1000))\n"
   ]
  }
 ],
 "metadata": {
  "kernelspec": {
   "display_name": "Python 3",
   "language": "python",
   "name": "python3"
  },
  "language_info": {
   "codemirror_mode": {
    "name": "ipython",
    "version": 3
   },
   "file_extension": ".py",
   "mimetype": "text/x-python",
   "name": "python",
   "nbconvert_exporter": "python",
   "pygments_lexer": "ipython3",
   "version": "3.12.2"
  }
 },
 "nbformat": 4,
 "nbformat_minor": 2
}
